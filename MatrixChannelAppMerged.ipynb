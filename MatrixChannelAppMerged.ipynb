{
  "nbformat": 4,
  "nbformat_minor": 0,
  "metadata": {
    "colab": {
      "name": "MatrixChannelAppMerged.ipynb",
      "version": "0.3.2",
      "provenance": [],
      "collapsed_sections": []
    },
    "kernelspec": {
      "name": "python3",
      "display_name": "Python 3"
    }
  },
  "cells": [
    {
      "cell_type": "markdown",
      "metadata": {
        "id": "view-in-github",
        "colab_type": "text"
      },
      "source": [
        "[View in Colaboratory](https://colab.research.google.com/github/tooHotSpot/talkingData/blob/master/MatrixChannelAppMerged.ipynb)"
      ]
    },
    {
      "metadata": {
        "id": "sBXPS1Ql77fV",
        "colab_type": "code",
        "colab": {}
      },
      "cell_type": "code",
      "source": [
        "import os\n",
        "from itertools import islice\n",
        "\n",
        "\n",
        "def main():\n",
        "    f = open(\"merged.txt\", \"wb\")\n",
        "    t = open(\"train_sample.txt\", \"rb\")\n",
        "    for line in t:\n",
        "        f.write(line)\n",
        "    t.close()\n",
        "    \n",
        "    t = open(\"train.txt\", \"rb\")\n",
        "    for line in islice(t, 1, None):\n",
        "        f.write(line)\n",
        "    t.close()    \n",
        "    f.close()\n",
        "    \n",
        "    \n",
        "main()\n",
        "print(sum(1 for i in open(\"merged.txt\")))"
      ],
      "execution_count": 0,
      "outputs": []
    },
    {
      "metadata": {
        "id": "FLG-sSwq785n",
        "colab_type": "text"
      },
      "cell_type": "markdown",
      "source": [
        "\n",
        "185.003.891"
      ]
    },
    {
      "metadata": {
        "id": "PaeKf8l0r_Jf",
        "colab_type": "code",
        "colab": {}
      },
      "cell_type": "code",
      "source": [
        "def getMatrix():\n",
        "    myMatrixFile = \"matchMatrix/MatrixChannelApp.txt\"\n",
        "    if os.path.isfile(myMatrixFile):\n",
        "        print(myMatrixFile, \" already exists\")\n",
        "        f = open(myMatrixFile, \"rb\")\n",
        "        m = pickle.load(f)\n",
        "        f.close()\n",
        "        return m\n",
        "    # Else creating\n",
        "    m = np.zeros([501, 769, 2])\n",
        "    # Shape 501x769 in case max(channels)=500 & max(apps)=768\n",
        "    f = open(\"merged.txt\", \"rb\")\n",
        "    count = 0\n",
        "    for line in islice(f, 1, None):\n",
        "        lineList = str(line).split(',')\n",
        "        channel = int(lineList[4])\n",
        "        app = int(lineList[1])\n",
        "        is_attributed = int(lineList[-1][0])\n",
        "        m[channel, app, 0] += 1\n",
        "        m[channel, app, 1] += is_attributed\n",
        "        count += 1\n",
        "    f.close()\n",
        "    print(count)\n",
        "    # Saving the matrix, cause it takes 20 min to evaluate this function\n",
        "    f = open(myMatrixFile, \"wb\")\n",
        "    pickle.dump(m, f)\n",
        "    f.close()\n",
        "    # Counting the statistics\n",
        "    countPairs = 0\n",
        "    countNoPairs = 0\n",
        "    x, y, z = m.shape\n",
        "    for channel in range(x):\n",
        "        for app in range(y):\n",
        "            if m[channel, app, 0] == 0:\n",
        "                countNoPairs += 1\n",
        "            else:\n",
        "                countPairs += 1\n",
        "    total = 768*500\n",
        "    print(total, \" pairs \")\n",
        "    print(countNoPairs, \" ~ \", 100*countNoPairs//total, \"% pairs are absent\")\n",
        "    print(countPairs, \"~\", 100*countPairs//total, \"% pairs are present\")\n",
        "    return m"
      ],
      "execution_count": 0,
      "outputs": []
    },
    {
      "metadata": {
        "id": "YNpzSPiktypM",
        "colab_type": "text"
      },
      "cell_type": "markdown",
      "source": [
        "384000  pairs of channels-apps\n",
        "\n",
        "By train_sample & train\n",
        "---\n",
        "383849  ~  99 % pairs are absent\n",
        "\n",
        "1420 ~ 0 % pairs are present\n",
        "\n",
        "\n",
        "Only by train\n",
        "---\n",
        "?  ~  99 % pairs are absent\n",
        "\n",
        "? ~ 0 % pairs are present\n",
        "\n"
      ]
    },
    {
      "metadata": {
        "id": "w6U17B0C8RBs",
        "colab_type": "text"
      },
      "cell_type": "markdown",
      "source": [
        ""
      ]
    },
    {
      "metadata": {
        "id": "jy5SwElTuCmj",
        "colab_type": "code",
        "colab": {}
      },
      "cell_type": "code",
      "source": [
        "def predict(m):\n",
        "    # It is the prototype of predict function\n",
        "    f = open(\"test.txt\", \"rb\")\n",
        "    countAbsentNeeded = 0\n",
        "    countPresentNeeded = 0\n",
        "    total = 0\n",
        "    for line in islice(f, 1, None):\n",
        "        total += 1\n",
        "        lineList = str(line).split(',')\n",
        "        channel = int(lineList[5])\n",
        "        app = int(lineList[2])\n",
        "        if m[channel, app, 0] == 0:\n",
        "            countAbsentNeeded += 1\n",
        "        else:\n",
        "            countPresentNeeded += 1\n",
        "    f.close()\n",
        "    print(countAbsentNeeded, \"~\", 100*countAbsentNeeded//total, \" pairs are absent and we don`t know conversion for those pairs\")\n",
        "    print(countPresentNeeded, \"~\", 100*countPresentNeeded//total, \" pairs are present, we know the conversion for those pairs\")"
      ],
      "execution_count": 0,
      "outputs": []
    },
    {
      "metadata": {
        "id": "fGSwQoZku17f",
        "colab_type": "text"
      },
      "cell_type": "markdown",
      "source": [
        "By train_sample & train\n",
        "---\n",
        "186575 ~ 0 % pairs are absent and needed\n",
        "\n",
        "18603894 ~ 99 %  pairs are present, we know the conversion for those pairs\n",
        "\n",
        "Only by train\n",
        "---\n",
        "? ~ 0 % pairs are absent and needed\n",
        "\n",
        "? ~ 99 %  pairs are present, we know the conversion for those pairs\n"
      ]
    },
    {
      "metadata": {
        "id": "QnL8sQEjvE3n",
        "colab_type": "code",
        "colab": {}
      },
      "cell_type": "code",
      "source": [
        "def main():\n",
        "    m = getMatrix()\n",
        "    predict(m)"
      ],
      "execution_count": 0,
      "outputs": []
    },
    {
      "metadata": {
        "id": "4nFtGRMAvOkI",
        "colab_type": "code",
        "colab": {}
      },
      "cell_type": "code",
      "source": [
        "main()\n",
        "print(\"Hello\")"
      ],
      "execution_count": 0,
      "outputs": []
    }
  ]
}