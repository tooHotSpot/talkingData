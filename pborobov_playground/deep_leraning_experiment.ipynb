{
 "cells": [
  {
   "cell_type": "code",
   "execution_count": 2,
   "metadata": {},
   "outputs": [
    {
     "name": "stdout",
     "output_type": "stream",
     "text": [
      "hdf5 is not supported on this machine (please install/reinstall h5py for optimal experience)\n",
      "Scipy not supported!\n"
     ]
    }
   ],
   "source": [
    "import pandas as pd\n",
    "import numpy as np\n",
    "import tensorflow as tf\n",
    "import tflearn"
   ]
  },
  {
   "cell_type": "code",
   "execution_count": 1,
   "metadata": {},
   "outputs": [
    {
     "ename": "NameError",
     "evalue": "name 'pd' is not defined",
     "output_type": "error",
     "traceback": [
      "\u001b[0;31m---------------------------------------------------------------------------\u001b[0m",
      "\u001b[0;31mNameError\u001b[0m                                 Traceback (most recent call last)",
      "\u001b[0;32m<ipython-input-1-fd9dd984d444>\u001b[0m in \u001b[0;36m<module>\u001b[0;34m()\u001b[0m\n\u001b[1;32m      1\u001b[0m \u001b[0mtrain_filename\u001b[0m \u001b[0;34m=\u001b[0m \u001b[0;34m'train_sample.csv'\u001b[0m\u001b[0;34m\u001b[0m\u001b[0m\n\u001b[0;32m----> 2\u001b[0;31m \u001b[0mdf\u001b[0m \u001b[0;34m=\u001b[0m \u001b[0mpd\u001b[0m\u001b[0;34m.\u001b[0m\u001b[0mread_csv\u001b[0m\u001b[0;34m(\u001b[0m\u001b[0;34m'data/mnt/ssd/kaggle-talkingdata2/competition_files/'\u001b[0m \u001b[0;34m+\u001b[0m \u001b[0mtrain_filename\u001b[0m\u001b[0;34m)\u001b[0m\u001b[0;34m\u001b[0m\u001b[0m\n\u001b[0m\u001b[1;32m      3\u001b[0m \u001b[0mcategorical_features\u001b[0m \u001b[0;34m=\u001b[0m \u001b[0;34m[\u001b[0m\u001b[0;34m'app'\u001b[0m\u001b[0;34m,\u001b[0m \u001b[0;34m'device'\u001b[0m\u001b[0;34m,\u001b[0m \u001b[0;34m'os'\u001b[0m\u001b[0;34m,\u001b[0m \u001b[0;34m'channel'\u001b[0m\u001b[0;34m]\u001b[0m\u001b[0;34m\u001b[0m\u001b[0m\n\u001b[1;32m      4\u001b[0m \u001b[0;34m\u001b[0m\u001b[0m\n\u001b[1;32m      5\u001b[0m \u001b[0mdf\u001b[0m\u001b[0;34m[\u001b[0m\u001b[0;34m'click_time'\u001b[0m\u001b[0;34m]\u001b[0m \u001b[0;34m=\u001b[0m \u001b[0mdf\u001b[0m\u001b[0;34m[\u001b[0m\u001b[0;34m'click_time'\u001b[0m\u001b[0;34m]\u001b[0m\u001b[0;34m.\u001b[0m\u001b[0mastype\u001b[0m\u001b[0;34m(\u001b[0m\u001b[0;34m'datetime64[ns]'\u001b[0m\u001b[0;34m)\u001b[0m\u001b[0;34m\u001b[0m\u001b[0m\n",
      "\u001b[0;31mNameError\u001b[0m: name 'pd' is not defined"
     ]
    }
   ],
   "source": [
    "train_filename = 'train_sample.csv'\n",
    "df = pd.read_csv('data/mnt/ssd/kaggle-talkingdata2/competition_files/' + train_filename)\n",
    "categorical_features = ['app', 'device', 'os', 'channel']\n",
    "\n",
    "df['click_time'] = df['click_time'].astype('datetime64[ns]')\n",
    "df['click_day'] = df['click_time'].dt.day\n",
    "df['click_wday'] = df['click_time'].dt.weekday\n",
    "df['click_month'] = df['click_time'].dt.month\n",
    "df['click_year'] = df['click_time'].dt.year\n",
    "df['click_hour'] = df['click_time'].dt.hour\n",
    "df['click_minute'] = df['click_time'].dt.minute\n",
    "df.drop(['click_time', 'attributed_time', 'ip'], axis=1, inplace=True)\n",
    "\n",
    "max_channel_id = df['channel'].max()\n",
    "max_device_id = df['device'].max()\n",
    "max_app_id = df['app'].max()\n",
    "max_os_id = df['os'].max()\n",
    "print(\"Max app id: {}\\nMax channel id: {}\\nMax device id: {}\\nMax os id: {}\".format(max_app_id, max_channel_id, max_device_id, max_os_id))"
   ]
  },
  {
   "cell_type": "code",
   "execution_count": 15,
   "metadata": {},
   "outputs": [],
   "source": [
    "def get_model(max_channel_id, max_device_id, max_app_id, max_os_id):\n",
    "    channel_data = tflearn.input_data(shape=[None, 1], name='channel')\n",
    "    device_data = tflearn.input_data(shape=[None, 1], name='device')\n",
    "    app_data = tflearn.input_data(shape=[None, 1], name='app')\n",
    "    os_data = tflearn.input_data(shape=[None, 1], name='os')\n",
    "    click_data = tflearn.input_data(shape=[None, 6], name'click_data')\n",
    "    \n",
    "    channel_out_dim = 256\n",
    "    device_out_dim = 1024\n",
    "    app_out_dim = 256\n",
    "    os_out_dim = 512\n",
    "    \n",
    "    channel_emb = tflearn.embedding(channel_data, input_dim=max_channel_id, output_dim=channel_out_dim)\n",
    "    \n",
    "    app_emb = tflearn.embedding(app_data, input_dim=max_app_id, output_dim=app_out_dim)\n",
    "    \n",
    "    device_emb = tflearn.embedding(device_data, input_dim=max_device_id, output_dim=device_out_dim)\n",
    "    \n",
    "    os_emb = tflearn.embedding(os_data, input_dim=max_os_id, output_dim=os_out_dim)\n",
    "    \n",
    "    net = tflearn.merge_outputs([channel_emb, app_emb, device_emb, os_emb, click_data])\n",
    "    \n",
    "    # shape estimation \n",
    "    # batch_size x 2054\n",
    "    # TODO: actual fully connected network \n",
    "    # 2054 x 4096 = \n",
    "    \n",
    "\n",
    "\n"
   ]
  },
  {
   "cell_type": "code",
   "execution_count": null,
   "metadata": {},
   "outputs": [],
   "source": []
  }
 ],
 "metadata": {
  "kernelspec": {
   "display_name": "Python 2",
   "language": "python",
   "name": "python2"
  },
  "language_info": {
   "codemirror_mode": {
    "name": "ipython",
    "version": 2
   },
   "file_extension": ".py",
   "mimetype": "text/x-python",
   "name": "python",
   "nbconvert_exporter": "python",
   "pygments_lexer": "ipython2",
   "version": "2.7.10"
  }
 },
 "nbformat": 4,
 "nbformat_minor": 2
}
