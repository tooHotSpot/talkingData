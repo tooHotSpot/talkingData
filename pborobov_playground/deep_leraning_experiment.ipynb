{
 "cells": [
  {
   "cell_type": "code",
   "execution_count": 1,
   "metadata": {},
   "outputs": [
    {
     "name": "stdout",
     "output_type": "stream",
     "text": [
      "hdf5 is not supported on this machine (please install/reinstall h5py for optimal experience)\n"
     ]
    }
   ],
   "source": [
    "import pandas as pd\n",
    "import numpy as np\n",
    "import tensorflow as tf\n",
    "import tflearn"
   ]
  },
  {
   "cell_type": "code",
   "execution_count": 2,
   "metadata": {},
   "outputs": [],
   "source": [
    "EXPERIMENT_NAME = 'initial'"
   ]
  },
  {
   "cell_type": "code",
   "execution_count": 3,
   "metadata": {},
   "outputs": [
    {
     "name": "stdout",
     "output_type": "stream",
     "text": [
      "Max app id: 552\n",
      "Max channel id: 499\n",
      "Max device id: 3868\n",
      "Max os id: 867\n"
     ]
    }
   ],
   "source": [
    "train_filename = 'train_sample.csv'\n",
    "df = pd.read_csv('data/mnt/ssd/kaggle-talkingdata2/competition_files/' + train_filename)\n",
    "\n",
    "df['click_time'] = df['click_time'].astype('datetime64[ns]')\n",
    "df['click_day'] = df['click_time'].dt.day\n",
    "df['click_wday'] = df['click_time'].dt.weekday\n",
    "df['click_month'] = df['click_time'].dt.month\n",
    "df['click_year'] = df['click_time'].dt.year\n",
    "df['click_hour'] = df['click_time'].dt.hour\n",
    "df['click_minute'] = df['click_time'].dt.minute\n",
    "df.drop(['click_time', 'attributed_time', 'ip'], axis=1, inplace=True)\n",
    "\n",
    "max_channel_id = df['channel'].max() + 1\n",
    "max_device_id = df['device'].max() + 1\n",
    "max_app_id = df['app'].max() + 1\n",
    "max_os_id = df['os'].max() + 1\n",
    "print(\"Max app id: {}\\nMax channel id: {}\\nMax device id: {}\\nMax os id: {}\".format(max_app_id, max_channel_id, max_device_id, max_os_id))"
   ]
  },
  {
   "cell_type": "markdown",
   "metadata": {},
   "source": [
    "# Prepare data for training, so basically split data 90/10 for development"
   ]
  },
  {
   "cell_type": "code",
   "execution_count": 4,
   "metadata": {},
   "outputs": [],
   "source": [
    "from sklearn.model_selection import train_test_split\n",
    "\n",
    "train, test = train_test_split(df, test_size=0.1, shuffle=True)\n",
    "\n",
    "train_labels = pd.get_dummies(train.is_attributed.as_matrix())\n",
    "test_labels = pd.get_dummies(test.is_attributed.as_matrix())\n",
    "train_labels.columns = ['attributed', ' not_attributed']\n",
    "test_labels.columns = ['attributed', ' not_attributed']\n",
    "train_labels = train_labels.as_matrix()\n",
    "test_labels = test_labels.as_matrix()\n",
    "\n",
    "\n",
    "train_inputs = {\n",
    "    'channel': train.channel.as_matrix().reshape(-1, 1),\n",
    "    'device': train.device.as_matrix().reshape(-1, 1),\n",
    "    'app': train.app.as_matrix().reshape(-1, 1),\n",
    "    'os': train.os.as_matrix().reshape(-1, 1),\n",
    "    'click_data': train[[\n",
    "        'click_day', \n",
    "        #'click_wday', \n",
    "        'click_month',\n",
    "        'click_year', \n",
    "        'click_hour', \n",
    "        'click_minute'\n",
    "    ]].as_matrix()\n",
    "}\n",
    "test_inputs = {\n",
    "    'channel': test.channel.as_matrix().reshape(-1, 1),\n",
    "    'device': test.device.as_matrix().reshape(-1, 1),\n",
    "    'app': test.app.as_matrix().reshape(-1, 1),\n",
    "    'os': test.os.as_matrix().reshape(-1, 1),\n",
    "    'click_data': test[[\n",
    "        'click_day', \n",
    "        #'click_wday', \n",
    "        'click_month',\n",
    "        'click_year', \n",
    "        'click_hour', \n",
    "        'click_minute'\n",
    "    ]].as_matrix()\n",
    "}"
   ]
  },
  {
   "cell_type": "code",
   "execution_count": 5,
   "metadata": {},
   "outputs": [],
   "source": [
    "def get_model(max_channel_id, max_device_id, max_app_id, max_os_id):\n",
    "    channel_data = tflearn.input_data(shape=[None, 1], name='channel')\n",
    "    device_data = tflearn.input_data(shape=[None, 1], name='device')\n",
    "    app_data = tflearn.input_data(shape=[None, 1], name='app')\n",
    "    os_data = tflearn.input_data(shape=[None, 1], name='os')\n",
    "    click_data = tflearn.input_data(shape=[None, 5], name='click_data')\n",
    "    \n",
    "    channel_out_dim = 256\n",
    "    device_out_dim = 256\n",
    "    app_out_dim = 256\n",
    "    os_out_dim = 256\n",
    "\n",
    "    channel_emb = tflearn.embedding(channel_data, input_dim=max_channel_id, output_dim=channel_out_dim)    \n",
    "    app_emb = tflearn.embedding(app_data, input_dim=max_app_id, output_dim=app_out_dim)\n",
    "    device_emb = tflearn.embedding(device_data, input_dim=max_device_id, output_dim=device_out_dim)\n",
    "    os_emb = tflearn.embedding(os_data, input_dim=max_os_id, output_dim=os_out_dim)\n",
    "    \n",
    "    deep_features = tflearn.merge_outputs([channel_emb, app_emb, device_emb, os_emb])\n",
    "    deep_features = tflearn.fully_connected(deep_features, 256, activation='relu')\n",
    "    deep_features = tflearn.fully_connected(deep_features, 256, activation='relu')\n",
    "    deep_features = tflearn.fully_connected(deep_features, 256, activation='relu')\n",
    "    deep_features = tflearn.fully_connected(deep_features, 256, activation='relu')\n",
    "    \n",
    "    \n",
    "    wide_features = tflearn.fully_connected(click_data, 512, activation='relu')\n",
    "    combined = tflearn.merge_outputs([wide_features, deep_features])\n",
    "    output = tflearn.fully_connected(combined, 2, activation='softmax')\n",
    "    \n",
    "    return tflearn.regression(\n",
    "        output, \n",
    "        loss='roc_auc_score', \n",
    "        learning_rate=0.001, \n",
    "        optimizer='adam'\n",
    "    )\n",
    "net = get_model(max_channel_id, max_device_id, max_app_id, max_os_id)\n"
   ]
  },
  {
   "cell_type": "code",
   "execution_count": null,
   "metadata": {},
   "outputs": [],
   "source": [
    "model = tflearn.DNN(net, tensorboard_dir='logs/')\n",
    "model.fit(\n",
    "    train_inputs, \n",
    "    train_labels, \n",
    "    n_epoch = 5, \n",
    "    shuffle=True, \n",
    "    validation_set=(test_inputs, test_labels), \n",
    "    show_metric=True\n",
    ")\n",
    "model.save('models/' + EXPERIMENT_NAME + '.tfmodel')\n",
    "\n",
    "\n",
    "\n",
    "\n",
    "\n",
    "\n",
    "\n",
    "\n",
    "\n",
    "\n",
    "\n",
    "\n",
    "\n",
    "\n",
    "\n",
    "\n",
    "\n",
    "\n",
    "\n",
    "\n",
    "\n",
    "\n",
    "\n",
    "\n",
    "\n",
    "\n",
    "\n",
    "\n"
   ]
  },
  {
   "cell_type": "code",
   "execution_count": null,
   "metadata": {},
   "outputs": [],
   "source": []
  }
 ],
 "metadata": {
  "kernelspec": {
   "display_name": "Python 2",
   "language": "python",
   "name": "python2"
  },
  "language_info": {
   "codemirror_mode": {
    "name": "ipython",
    "version": 2
   },
   "file_extension": ".py",
   "mimetype": "text/x-python",
   "name": "python",
   "nbconvert_exporter": "python",
   "pygments_lexer": "ipython2",
   "version": "2.7.10"
  }
 },
 "nbformat": 4,
 "nbformat_minor": 2
}
